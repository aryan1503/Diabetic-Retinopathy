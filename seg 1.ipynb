{
 "cells": [
  {
   "cell_type": "code",
   "execution_count": 1,
   "metadata": {},
   "outputs": [],
   "source": [
    "import pathlib\n",
    "import PIL.Image"
   ]
  },
  {
   "cell_type": "code",
   "execution_count": 2,
   "metadata": {},
   "outputs": [],
   "source": [
    "import numpy as np\n",
    "import seaborn as sns\n",
    "import matplotlib.pyplot as plt\n",
    "import cv2"
   ]
  },
  {
   "cell_type": "code",
   "execution_count": 3,
   "metadata": {},
   "outputs": [],
   "source": [
    "l=\"C:\\\\Users\\\\aryan\\\\Downloads\\\\MED SEG\\\\gaussian_filtered_images\\\\gaussian_filtered_images\""
   ]
  },
  {
   "cell_type": "code",
   "execution_count": 4,
   "metadata": {},
   "outputs": [
    {
     "data": {
      "text/plain": [
       "WindowsPath('C:/Users/aryan/Downloads/MED SEG/gaussian_filtered_images/gaussian_filtered_images')"
      ]
     },
     "execution_count": 4,
     "metadata": {},
     "output_type": "execute_result"
    }
   ],
   "source": [
    "loc=pathlib.Path(l)\n",
    "loc"
   ]
  },
  {
   "cell_type": "code",
   "execution_count": 5,
   "metadata": {},
   "outputs": [],
   "source": [
    "mild=list(loc.glob('Mild/*'))\n",
    "moderate=list(loc.glob('Moderate/*'))\n",
    "severe=list(loc.glob('Severe/*'))\n",
    "none=list(loc.glob('No_DR/*'))\n",
    "proliferate=list(loc.glob('Proliferate/*'))"
   ]
  },
  {
   "cell_type": "code",
   "execution_count": 6,
   "metadata": {},
   "outputs": [],
   "source": [
    "location={\n",
    "    'mild':list(loc.glob('Mild/*')),\n",
    "    'moderate':list(loc.glob('Moderate/*')),\n",
    "    'severe':list(loc.glob('Severe/*')),\n",
    "    'none':list(loc.glob('No_DR/*'))\n",
    "}"
   ]
  },
  {
   "cell_type": "code",
   "execution_count": 7,
   "metadata": {},
   "outputs": [],
   "source": [
    "label={\n",
    "    'mild':1,\n",
    "    'moderate':2,\n",
    "    'severe':3,\n",
    "    'none':0\n",
    "}"
   ]
  },
  {
   "cell_type": "code",
   "execution_count": 8,
   "metadata": {},
   "outputs": [
    {
     "data": {
      "text/plain": [
       "(224, 224, 3)"
      ]
     },
     "execution_count": 8,
     "metadata": {},
     "output_type": "execute_result"
    }
   ],
   "source": [
    "x=cv2.imread(str(location['severe'][2]))\n",
    "x\n",
    "x.shape"
   ]
  },
  {
   "cell_type": "code",
   "execution_count": 9,
   "metadata": {
    "scrolled": true
   },
   "outputs": [
    {
     "name": "stdout",
     "output_type": "stream",
     "text": [
      "mild\n",
      "370\n",
      "moderate\n",
      "999\n",
      "severe\n",
      "193\n",
      "none\n",
      "1805\n"
     ]
    }
   ],
   "source": [
    "for x,y in location.items():\n",
    "    print(x)\n",
    "    print(len(y))"
   ]
  },
  {
   "cell_type": "code",
   "execution_count": 10,
   "metadata": {},
   "outputs": [],
   "source": [
    "x,y=[],[]\n",
    "for res,pic in location.items():\n",
    "    for image in pic:\n",
    "        img=cv2.imread(str(image))\n",
    "        x.append(cv2.resize(img,(32,32)))\n",
    "        y.append(label[res])"
   ]
  },
  {
   "cell_type": "code",
   "execution_count": 11,
   "metadata": {},
   "outputs": [
    {
     "data": {
      "text/plain": [
       "3367"
      ]
     },
     "execution_count": 11,
     "metadata": {},
     "output_type": "execute_result"
    }
   ],
   "source": [
    "len(x)"
   ]
  },
  {
   "cell_type": "code",
   "execution_count": 12,
   "metadata": {},
   "outputs": [
    {
     "data": {
      "text/plain": [
       "3367"
      ]
     },
     "execution_count": 12,
     "metadata": {},
     "output_type": "execute_result"
    }
   ],
   "source": [
    "len(y)"
   ]
  },
  {
   "cell_type": "code",
   "execution_count": 13,
   "metadata": {},
   "outputs": [
    {
     "name": "stdout",
     "output_type": "stream",
     "text": [
      "(3367, 32, 32, 3)\n",
      "(3367,)\n"
     ]
    }
   ],
   "source": [
    "x=np.array(x)\n",
    "y=np.array(y)\n",
    "print(x.shape)\n",
    "print(y.shape)"
   ]
  },
  {
   "cell_type": "code",
   "execution_count": null,
   "metadata": {},
   "outputs": [],
   "source": []
  },
  {
   "cell_type": "code",
   "execution_count": 14,
   "metadata": {},
   "outputs": [],
   "source": [
    "x=x/255"
   ]
  },
  {
   "cell_type": "code",
   "execution_count": 15,
   "metadata": {},
   "outputs": [],
   "source": [
    "from sklearn.model_selection import train_test_split\n",
    "xtrain,xtest,ytrain,ytest=train_test_split(x,y,random_state=5,test_size=0.1)"
   ]
  },
  {
   "cell_type": "code",
   "execution_count": 16,
   "metadata": {},
   "outputs": [
    {
     "name": "stdout",
     "output_type": "stream",
     "text": [
      "(3030, 32, 32, 3)\n",
      "(337, 32, 32, 3)\n",
      "(3030,)\n",
      "(337,)\n"
     ]
    }
   ],
   "source": [
    "print(xtrain.shape)\n",
    "print(xtest.shape)\n",
    "print(ytrain.shape)\n",
    "print(ytest.shape)"
   ]
  },
  {
   "cell_type": "code",
   "execution_count": 17,
   "metadata": {},
   "outputs": [],
   "source": [
    "import tensorflow as tf\n",
    "from tensorflow import keras\n",
    "from tensorflow.keras import layers"
   ]
  },
  {
   "cell_type": "markdown",
   "metadata": {},
   "source": [
    "                                                        ANN"
   ]
  },
  {
   "cell_type": "code",
   "execution_count": 18,
   "metadata": {},
   "outputs": [],
   "source": [
    "ann2=keras.Sequential([keras.layers.Dense(100,activation='relu'),\n",
    "                      keras.layers.Flatten(),\n",
    "                      keras.layers.Dropout(0.2),\n",
    "                      keras.layers.BatchNormalization(),\n",
    "                      keras.layers.Dense(50,activation='sigmoid'),\n",
    "                      keras.layers.Dense(4,activation='softmax')])\n",
    "ann2.compile(optimizer='adam',loss='sparse_categorical_crossentropy',metrics=['accuracy'])"
   ]
  },
  {
   "cell_type": "code",
   "execution_count": 19,
   "metadata": {},
   "outputs": [
    {
     "name": "stdout",
     "output_type": "stream",
     "text": [
      "Epoch 1/5\n",
      "31/31 [==============================] - 12s 353ms/step - loss: 0.7145 - accuracy: 0.7267\n",
      "Epoch 2/5\n",
      "31/31 [==============================] - 11s 340ms/step - loss: 0.5063 - accuracy: 0.8102\n",
      "Epoch 3/5\n",
      "31/31 [==============================] - 12s 379ms/step - loss: 0.4203 - accuracy: 0.8439\n",
      "Epoch 4/5\n",
      "31/31 [==============================] - 12s 395ms/step - loss: 0.3242 - accuracy: 0.8802\n",
      "Epoch 5/5\n",
      "31/31 [==============================] - 12s 391ms/step - loss: 0.2438 - accuracy: 0.9221\n"
     ]
    },
    {
     "data": {
      "text/plain": [
       "<keras.callbacks.History at 0x141ae8d4160>"
      ]
     },
     "execution_count": 19,
     "metadata": {},
     "output_type": "execute_result"
    }
   ],
   "source": [
    "ann2.fit(xtrain,ytrain,epochs=5,batch_size=100)"
   ]
  },
  {
   "cell_type": "code",
   "execution_count": 20,
   "metadata": {},
   "outputs": [],
   "source": [
    "cnn = keras.Sequential([\n",
    "    layers.Conv2D(filters=32,input_shape=(32,32,3), kernel_size=(3, 3), activation='relu'),\n",
    "    layers.MaxPooling2D((2, 2)),\n",
    "    layers.Conv2D(16, 3, padding='same', activation='relu'),\n",
    "    layers.MaxPooling2D(),\n",
    "    layers.Conv2D(8, 3, padding='same', activation='relu'),\n",
    "    layers.MaxPooling2D(),\n",
    "    layers.Dropout(0.2),\n",
    "    layers.Flatten(),\n",
    "    layers.Dense(128, activation='relu'),\n",
    "    layers.Flatten(),\n",
    "    layers.Dense(64, activation='relu'),\n",
    "    layers.Dense(4, activation='softmax')\n",
    "])\n",
    "cnn.compile(optimizer='adam',loss='sparse_categorical_crossentropy',metrics=['accuracy'])"
   ]
  },
  {
   "cell_type": "code",
   "execution_count": 21,
   "metadata": {},
   "outputs": [
    {
     "name": "stdout",
     "output_type": "stream",
     "text": [
      "Epoch 1/20\n",
      "31/31 [==============================] - 2s 60ms/step - loss: 1.1864 - accuracy: 0.4977\n",
      "Epoch 2/20\n",
      "31/31 [==============================] - 2s 72ms/step - loss: 1.0807 - accuracy: 0.5360\n",
      "Epoch 3/20\n",
      "31/31 [==============================] - 2s 58ms/step - loss: 0.9739 - accuracy: 0.5785\n",
      "Epoch 4/20\n",
      "31/31 [==============================] - 2s 52ms/step - loss: 0.7981 - accuracy: 0.7215\n",
      "Epoch 5/20\n",
      "31/31 [==============================] - 2s 55ms/step - loss: 0.7414 - accuracy: 0.7287\n",
      "Epoch 6/20\n",
      "31/31 [==============================] - 2s 58ms/step - loss: 0.7212 - accuracy: 0.7327\n",
      "Epoch 7/20\n",
      "31/31 [==============================] - 2s 53ms/step - loss: 0.6925 - accuracy: 0.7399\n",
      "Epoch 8/20\n",
      "31/31 [==============================] - 2s 53ms/step - loss: 0.6665 - accuracy: 0.7528\n",
      "Epoch 9/20\n",
      "31/31 [==============================] - 2s 60ms/step - loss: 0.6590 - accuracy: 0.7449\n",
      "Epoch 10/20\n",
      "31/31 [==============================] - 2s 54ms/step - loss: 0.6367 - accuracy: 0.7587\n",
      "Epoch 11/20\n",
      "31/31 [==============================] - 2s 53ms/step - loss: 0.6160 - accuracy: 0.7670\n",
      "Epoch 12/20\n",
      "31/31 [==============================] - 2s 49ms/step - loss: 0.6078 - accuracy: 0.7733\n",
      "Epoch 13/20\n",
      "31/31 [==============================] - 1s 48ms/step - loss: 0.6475 - accuracy: 0.7620\n",
      "Epoch 14/20\n",
      "31/31 [==============================] - 2s 52ms/step - loss: 0.6088 - accuracy: 0.7663\n",
      "Epoch 15/20\n",
      "31/31 [==============================] - 2s 54ms/step - loss: 0.5887 - accuracy: 0.7802\n",
      "Epoch 16/20\n",
      "31/31 [==============================] - 1s 47ms/step - loss: 0.5821 - accuracy: 0.7799\n",
      "Epoch 17/20\n",
      "31/31 [==============================] - 2s 52ms/step - loss: 0.5731 - accuracy: 0.7861\n",
      "Epoch 18/20\n",
      "31/31 [==============================] - 2s 60ms/step - loss: 0.5725 - accuracy: 0.7838\n",
      "Epoch 19/20\n",
      "31/31 [==============================] - 2s 61ms/step - loss: 0.5658 - accuracy: 0.7799\n",
      "Epoch 20/20\n",
      "31/31 [==============================] - 2s 54ms/step - loss: 0.5827 - accuracy: 0.7739\n"
     ]
    },
    {
     "data": {
      "text/plain": [
       "<keras.callbacks.History at 0x141b999d640>"
      ]
     },
     "execution_count": 21,
     "metadata": {},
     "output_type": "execute_result"
    }
   ],
   "source": [
    "cnn.fit(xtrain,ytrain,epochs=20,batch_size=100)"
   ]
  },
  {
   "cell_type": "code",
   "execution_count": 23,
   "metadata": {},
   "outputs": [],
   "source": [
    "pred=cnn.predict(xtest)"
   ]
  },
  {
   "cell_type": "code",
   "execution_count": 24,
   "metadata": {},
   "outputs": [],
   "source": [
    "import seaborn as sns"
   ]
  },
  {
   "cell_type": "code",
   "execution_count": 25,
   "metadata": {},
   "outputs": [
    {
     "data": {
      "text/plain": [
       "(337, 4)"
      ]
     },
     "execution_count": 25,
     "metadata": {},
     "output_type": "execute_result"
    }
   ],
   "source": [
    "pred.shape"
   ]
  },
  {
   "cell_type": "code",
   "execution_count": 26,
   "metadata": {},
   "outputs": [
    {
     "data": {
      "text/plain": [
       "(337,)"
      ]
     },
     "execution_count": 26,
     "metadata": {},
     "output_type": "execute_result"
    }
   ],
   "source": [
    "ytest.shape"
   ]
  },
  {
   "cell_type": "code",
   "execution_count": 27,
   "metadata": {},
   "outputs": [
    {
     "data": {
      "text/plain": [
       "[1,\n",
       " 0,\n",
       " 2,\n",
       " 0,\n",
       " 2,\n",
       " 0,\n",
       " 1,\n",
       " 2,\n",
       " 0,\n",
       " 0,\n",
       " 0,\n",
       " 1,\n",
       " 1,\n",
       " 2,\n",
       " 0,\n",
       " 0,\n",
       " 2,\n",
       " 0,\n",
       " 0,\n",
       " 2,\n",
       " 2,\n",
       " 0,\n",
       " 0,\n",
       " 2,\n",
       " 0,\n",
       " 0,\n",
       " 2,\n",
       " 0,\n",
       " 1,\n",
       " 0,\n",
       " 3,\n",
       " 2,\n",
       " 2,\n",
       " 0,\n",
       " 0,\n",
       " 0,\n",
       " 2,\n",
       " 2,\n",
       " 2,\n",
       " 0,\n",
       " 0,\n",
       " 2,\n",
       " 0,\n",
       " 3,\n",
       " 2,\n",
       " 1,\n",
       " 0,\n",
       " 1,\n",
       " 1,\n",
       " 1,\n",
       " 2,\n",
       " 0,\n",
       " 2,\n",
       " 0,\n",
       " 0,\n",
       " 2,\n",
       " 0,\n",
       " 0,\n",
       " 0,\n",
       " 1,\n",
       " 2,\n",
       " 0,\n",
       " 0,\n",
       " 0,\n",
       " 0,\n",
       " 0,\n",
       " 2,\n",
       " 0,\n",
       " 0,\n",
       " 0,\n",
       " 0,\n",
       " 2,\n",
       " 2,\n",
       " 0,\n",
       " 2,\n",
       " 0,\n",
       " 0,\n",
       " 0,\n",
       " 0,\n",
       " 0,\n",
       " 2,\n",
       " 0,\n",
       " 0,\n",
       " 0,\n",
       " 1,\n",
       " 2,\n",
       " 0,\n",
       " 0,\n",
       " 1,\n",
       " 0,\n",
       " 0,\n",
       " 1,\n",
       " 0,\n",
       " 2,\n",
       " 0,\n",
       " 0,\n",
       " 0,\n",
       " 1,\n",
       " 0,\n",
       " 0,\n",
       " 0,\n",
       " 0,\n",
       " 0,\n",
       " 2,\n",
       " 0,\n",
       " 1,\n",
       " 0,\n",
       " 1,\n",
       " 0,\n",
       " 2,\n",
       " 1,\n",
       " 0,\n",
       " 2,\n",
       " 0,\n",
       " 0,\n",
       " 2,\n",
       " 0,\n",
       " 2,\n",
       " 3,\n",
       " 0,\n",
       " 0,\n",
       " 0,\n",
       " 2,\n",
       " 0,\n",
       " 2,\n",
       " 2,\n",
       " 1,\n",
       " 0,\n",
       " 0,\n",
       " 0,\n",
       " 0,\n",
       " 0,\n",
       " 0,\n",
       " 1,\n",
       " 0,\n",
       " 0,\n",
       " 0,\n",
       " 0,\n",
       " 2,\n",
       " 0,\n",
       " 0,\n",
       " 0,\n",
       " 1,\n",
       " 0,\n",
       " 2,\n",
       " 2,\n",
       " 0,\n",
       " 0,\n",
       " 0,\n",
       " 0,\n",
       " 2,\n",
       " 0,\n",
       " 0,\n",
       " 1,\n",
       " 0,\n",
       " 0,\n",
       " 2,\n",
       " 2,\n",
       " 0,\n",
       " 0,\n",
       " 0,\n",
       " 2,\n",
       " 0,\n",
       " 0,\n",
       " 0,\n",
       " 0,\n",
       " 0,\n",
       " 3,\n",
       " 0,\n",
       " 2,\n",
       " 0,\n",
       " 2,\n",
       " 2,\n",
       " 0,\n",
       " 0,\n",
       " 1,\n",
       " 0,\n",
       " 0,\n",
       " 1,\n",
       " 0,\n",
       " 2,\n",
       " 0,\n",
       " 0,\n",
       " 0,\n",
       " 1,\n",
       " 0,\n",
       " 2,\n",
       " 2,\n",
       " 2,\n",
       " 0,\n",
       " 2,\n",
       " 0,\n",
       " 2,\n",
       " 2,\n",
       " 2,\n",
       " 2,\n",
       " 2,\n",
       " 2,\n",
       " 2,\n",
       " 2,\n",
       " 1,\n",
       " 0,\n",
       " 0,\n",
       " 1,\n",
       " 2,\n",
       " 0,\n",
       " 0,\n",
       " 0,\n",
       " 0,\n",
       " 0,\n",
       " 2,\n",
       " 2,\n",
       " 0,\n",
       " 0,\n",
       " 2,\n",
       " 0,\n",
       " 0,\n",
       " 2,\n",
       " 0,\n",
       " 0,\n",
       " 0,\n",
       " 2,\n",
       " 2,\n",
       " 3,\n",
       " 0,\n",
       " 2,\n",
       " 2,\n",
       " 2,\n",
       " 2,\n",
       " 2,\n",
       " 0,\n",
       " 0,\n",
       " 0,\n",
       " 0,\n",
       " 0,\n",
       " 0,\n",
       " 0,\n",
       " 2,\n",
       " 1,\n",
       " 0,\n",
       " 2,\n",
       " 2,\n",
       " 2,\n",
       " 1,\n",
       " 2,\n",
       " 1,\n",
       " 0,\n",
       " 0,\n",
       " 2,\n",
       " 0,\n",
       " 2,\n",
       " 0,\n",
       " 2,\n",
       " 2,\n",
       " 1,\n",
       " 0,\n",
       " 0,\n",
       " 0,\n",
       " 0,\n",
       " 2,\n",
       " 2,\n",
       " 0,\n",
       " 2,\n",
       " 0,\n",
       " 0,\n",
       " 0,\n",
       " 2,\n",
       " 1,\n",
       " 0,\n",
       " 2,\n",
       " 0,\n",
       " 0,\n",
       " 2,\n",
       " 2,\n",
       " 0,\n",
       " 2,\n",
       " 0,\n",
       " 0,\n",
       " 2,\n",
       " 2,\n",
       " 2,\n",
       " 0,\n",
       " 0,\n",
       " 1,\n",
       " 0,\n",
       " 0,\n",
       " 0,\n",
       " 0,\n",
       " 0,\n",
       " 2,\n",
       " 2,\n",
       " 0,\n",
       " 0,\n",
       " 2,\n",
       " 0,\n",
       " 2,\n",
       " 0,\n",
       " 0,\n",
       " 0,\n",
       " 2,\n",
       " 0,\n",
       " 1,\n",
       " 0,\n",
       " 0,\n",
       " 2,\n",
       " 0,\n",
       " 0,\n",
       " 0,\n",
       " 0,\n",
       " 0,\n",
       " 0,\n",
       " 2,\n",
       " 2,\n",
       " 2,\n",
       " 0,\n",
       " 0,\n",
       " 2,\n",
       " 2,\n",
       " 0,\n",
       " 0,\n",
       " 1,\n",
       " 0,\n",
       " 2,\n",
       " 2,\n",
       " 0,\n",
       " 2,\n",
       " 0,\n",
       " 0,\n",
       " 2,\n",
       " 2,\n",
       " 0,\n",
       " 0,\n",
       " 1,\n",
       " 0,\n",
       " 0,\n",
       " 2,\n",
       " 0]"
      ]
     },
     "execution_count": 27,
     "metadata": {},
     "output_type": "execute_result"
    }
   ],
   "source": [
    "predict_class = np.argmax(pred, axis=1)\n",
    "predict_class = predict_class.tolist()\n",
    "predict_class"
   ]
  },
  {
   "cell_type": "code",
   "execution_count": 28,
   "metadata": {
    "scrolled": true
   },
   "outputs": [
    {
     "data": {
      "text/plain": [
       "<AxesSubplot:>"
      ]
     },
     "execution_count": 28,
     "metadata": {},
     "output_type": "execute_result"
    },
    {
     "data": {
      "image/png": "[encoded data removed]",
      "text/plain": [
       "<Figure size 432x288 with 2 Axes>"
      ]
     },
     "metadata": {
      "needs_background": "light"
     },
     "output_type": "display_data"
    }
   ],
   "source": [
    "sns.heatmap(tf.math.confusion_matrix(ytest,predict_class),annot=True,cmap='coolwarm',fmt='d')"
   ]
  },
  {
   "cell_type": "code",
   "execution_count": 29,
   "metadata": {},
   "outputs": [],
   "source": [
    "cnntest = keras.Sequential([\n",
    "    layers.experimental.preprocessing.RandomFlip(\"horizontal\", input_shape=(32,32,3)),\n",
    "    layers.experimental.preprocessing.RandomContrast(factor=0.2),\n",
    "    layers.experimental.preprocessing.RandomRotation(0.1),\n",
    "    layers.Conv2D(filters=32,input_shape=(32,32,3), kernel_size=(3, 3), activation='relu'),\n",
    "    layers.MaxPooling2D((3, 3)),\n",
    "    layers.Conv2D(64, 5, padding='same', activation='relu'),\n",
    "    layers.MaxPooling2D((2,2)),\n",
    "    layers.Conv2D(64, 3, padding='same', activation='relu'),\n",
    "    layers.MaxPooling2D((2,2)),\n",
    "    layers.Conv2D(32, 3, padding='same', activation='relu'),\n",
    "    layers.MaxPooling2D((2, 2)),\n",
    "    layers.Dropout(0.05),\n",
    "    layers.Conv2D(16, 3, padding='same', activation='relu'),\n",
    "    layers.Dropout(0.2),\n",
    "    layers.Flatten(),\n",
    "    layers.Dense(8, activation='relu'),\n",
    "    layers.Dense(4, activation='softmax')\n",
    "])\n",
    "cnntest.compile(optimizer='adam',loss='sparse_categorical_crossentropy',metrics=['accuracy'])"
   ]
  },
  {
   "cell_type": "code",
   "execution_count": 30,
   "metadata": {
    "scrolled": true
   },
   "outputs": [
    {
     "name": "stdout",
     "output_type": "stream",
     "text": [
      "Epoch 1/10\n",
      "25/25 [==============================] - 3s 94ms/step - loss: 1.2350 - accuracy: 0.4418 - val_loss: 1.0887 - val_accuracy: 0.5429\n",
      "Epoch 2/10\n",
      "25/25 [==============================] - 2s 80ms/step - loss: 1.1401 - accuracy: 0.5206 - val_loss: 1.0660 - val_accuracy: 0.5429\n",
      "Epoch 3/10\n",
      "25/25 [==============================] - 2s 75ms/step - loss: 1.1277 - accuracy: 0.5264 - val_loss: 1.0526 - val_accuracy: 0.5429\n",
      "Epoch 4/10\n",
      "25/25 [==============================] - 2s 74ms/step - loss: 1.1096 - accuracy: 0.5223 - val_loss: 1.0219 - val_accuracy: 0.5429\n",
      "Epoch 5/10\n",
      "25/25 [==============================] - 2s 76ms/step - loss: 1.0577 - accuracy: 0.5297 - val_loss: 1.6132 - val_accuracy: 0.5429\n",
      "Epoch 6/10\n",
      "25/25 [==============================] - 2s 73ms/step - loss: 1.0138 - accuracy: 0.5479 - val_loss: 1.0591 - val_accuracy: 0.5380\n",
      "Epoch 7/10\n",
      "25/25 [==============================] - 2s 72ms/step - loss: 0.9681 - accuracy: 0.6167 - val_loss: 1.2117 - val_accuracy: 0.5512\n",
      "Epoch 8/10\n",
      "25/25 [==============================] - 2s 75ms/step - loss: 0.9313 - accuracy: 0.6411 - val_loss: 1.0034 - val_accuracy: 0.5941\n",
      "Epoch 9/10\n",
      "25/25 [==============================] - 2s 72ms/step - loss: 0.9177 - accuracy: 0.6584 - val_loss: 1.0316 - val_accuracy: 0.5759\n",
      "Epoch 10/10\n",
      "25/25 [==============================] - 2s 71ms/step - loss: 0.8371 - accuracy: 0.7083 - val_loss: 1.0564 - val_accuracy: 0.6122\n"
     ]
    },
    {
     "data": {
      "text/plain": [
       "<keras.callbacks.History at 0x141b996c3a0>"
      ]
     },
     "execution_count": 30,
     "metadata": {},
     "output_type": "execute_result"
    }
   ],
   "source": [
    "cnntest.fit(xtrain,ytrain,epochs=10,batch_size=100,validation_split=0.2,shuffle=True)"
   ]
  },
  {
   "cell_type": "code",
   "execution_count": 31,
   "metadata": {
    "scrolled": true
   },
   "outputs": [
    {
     "data": {
      "text/plain": [
       "<AxesSubplot:>"
      ]
     },
     "execution_count": 31,
     "metadata": {},
     "output_type": "execute_result"
    },
    {
     "data": {
      "image/png": "[encoded data removed]",
      "text/plain": [
       "<Figure size 432x288 with 2 Axes>"
      ]
     },
     "metadata": {
      "needs_background": "light"
     },
     "output_type": "display_data"
    }
   ],
   "source": [
    "pred2=cnntest.predict(xtest)\n",
    "pc = np.argmax(pred2, axis=1)\n",
    "pc = pc.tolist()\n",
    "sns.heatmap(tf.math.confusion_matrix(ytest,pc),annot=True,cmap='coolwarm',fmt='d')"
   ]
  },
  {
   "cell_type": "code",
   "execution_count": 32,
   "metadata": {},
   "outputs": [
    {
     "name": "stdout",
     "output_type": "stream",
     "text": [
      "11/11 [==============================] - 0s 8ms/step - loss: 1.1875 - accuracy: 0.5964\n"
     ]
    },
    {
     "data": {
      "text/plain": [
       "[1.1874767541885376, 0.5964391827583313]"
      ]
     },
     "execution_count": 32,
     "metadata": {},
     "output_type": "execute_result"
    }
   ],
   "source": [
    "cnntest.evaluate(xtest,ytest)"
   ]
  },
  {
   "cell_type": "code",
   "execution_count": 33,
   "metadata": {
    "scrolled": true
   },
   "outputs": [
    {
     "data": {
      "text/plain": [
       "<tf.Tensor: shape=(4, 4), dtype=int32, numpy=\n",
       "array([[180,   0,   1,   0],\n",
       "       [ 28,   0,   7,   0],\n",
       "       [ 80,   0,  21,   0],\n",
       "       [ 19,   0,   1,   0]])>"
      ]
     },
     "execution_count": 33,
     "metadata": {},
     "output_type": "execute_result"
    }
   ],
   "source": [
    "tf.math.confusion_matrix(ytest,pc)"
   ]
  },
  {
   "cell_type": "code",
   "execution_count": 34,
   "metadata": {},
   "outputs": [
    {
     "name": "stdout",
     "output_type": "stream",
     "text": [
      "Model: \"sequential_2\"\n",
      "_________________________________________________________________\n",
      "Layer (type)                 Output Shape              Param #   \n",
      "=================================================================\n",
      "random_flip (RandomFlip)     (None, 32, 32, 3)         0         \n",
      "_________________________________________________________________\n",
      "random_contrast (RandomContr (None, 32, 32, 3)         0         \n",
      "_________________________________________________________________\n",
      "random_rotation (RandomRotat (None, 32, 32, 3)         0         \n",
      "_________________________________________________________________\n",
      "conv2d_3 (Conv2D)            (None, 30, 30, 32)        896       \n",
      "_________________________________________________________________\n",
      "max_pooling2d_3 (MaxPooling2 (None, 10, 10, 32)        0         \n",
      "_________________________________________________________________\n",
      "conv2d_4 (Conv2D)            (None, 10, 10, 64)        51264     \n",
      "_________________________________________________________________\n",
      "max_pooling2d_4 (MaxPooling2 (None, 5, 5, 64)          0         \n",
      "_________________________________________________________________\n",
      "conv2d_5 (Conv2D)            (None, 5, 5, 64)          36928     \n",
      "_________________________________________________________________\n",
      "max_pooling2d_5 (MaxPooling2 (None, 2, 2, 64)          0         \n",
      "_________________________________________________________________\n",
      "conv2d_6 (Conv2D)            (None, 2, 2, 32)          18464     \n",
      "_________________________________________________________________\n",
      "max_pooling2d_6 (MaxPooling2 (None, 1, 1, 32)          0         \n",
      "_________________________________________________________________\n",
      "dropout_2 (Dropout)          (None, 1, 1, 32)          0         \n",
      "_________________________________________________________________\n",
      "conv2d_7 (Conv2D)            (None, 1, 1, 16)          4624      \n",
      "_________________________________________________________________\n",
      "dropout_3 (Dropout)          (None, 1, 1, 16)          0         \n",
      "_________________________________________________________________\n",
      "flatten_3 (Flatten)          (None, 16)                0         \n",
      "_________________________________________________________________\n",
      "dense_6 (Dense)              (None, 8)                 136       \n",
      "_________________________________________________________________\n",
      "dense_7 (Dense)              (None, 4)                 36        \n",
      "=================================================================\n",
      "Total params: 112,348\n",
      "Trainable params: 112,348\n",
      "Non-trainable params: 0\n",
      "_________________________________________________________________\n"
     ]
    }
   ],
   "source": [
    "cnntest.summary()"
   ]
  },
  {
   "cell_type": "markdown",
   "metadata": {},
   "source": [
    "conv pool conv pool"
   ]
  },
  {
   "cell_type": "code",
   "execution_count": 35,
   "metadata": {},
   "outputs": [],
   "source": [
    "x = keras.Sequential([\n",
    "    layers.Conv2D(32, input_shape=(32,32,3),kernel_size=(3, 3), activation='relu'),\n",
    "    layers.MaxPooling2D(pool_size=(2, 2),strides=2),\n",
    "    layers.Conv2D(64, kernel_size=(3, 3), activation='relu'),\n",
    "    layers.MaxPooling2D(pool_size=(2, 2),strides=2),\n",
    "    layers.Conv2D(128, kernel_size=(3, 3), activation='relu'),\n",
    "    layers.MaxPooling2D(pool_size=(2, 2),strides=2),\n",
    "    layers.Flatten(),\n",
    "    layers.Dense(64, activation='relu'),\n",
    "    layers.Dense(4, activation='softmax')\n",
    "])\n",
    "x.compile(optimizer='adam',loss='sparse_categorical_crossentropy',metrics=['accuracy'])"
   ]
  },
  {
   "cell_type": "code",
   "execution_count": 36,
   "metadata": {},
   "outputs": [
    {
     "name": "stdout",
     "output_type": "stream",
     "text": [
      "Epoch 1/20\n",
      "31/31 [==============================] - 2s 58ms/step - loss: 1.0943 - accuracy: 0.5360\n",
      "Epoch 2/20\n",
      "31/31 [==============================] - 2s 61ms/step - loss: 0.9299 - accuracy: 0.5990\n",
      "Epoch 3/20\n",
      "31/31 [==============================] - 2s 64ms/step - loss: 0.7745 - accuracy: 0.7264\n",
      "Epoch 4/20\n",
      "31/31 [==============================] - 2s 58ms/step - loss: 0.6948 - accuracy: 0.7422\n",
      "Epoch 5/20\n",
      "31/31 [==============================] - 2s 57ms/step - loss: 0.6562 - accuracy: 0.7492\n",
      "Epoch 6/20\n",
      "31/31 [==============================] - 2s 62ms/step - loss: 0.6260 - accuracy: 0.7591\n",
      "Epoch 7/20\n",
      "31/31 [==============================] - 2s 60ms/step - loss: 0.6000 - accuracy: 0.7736\n",
      "Epoch 8/20\n",
      "31/31 [==============================] - 2s 66ms/step - loss: 0.5860 - accuracy: 0.7812\n",
      "Epoch 9/20\n",
      "31/31 [==============================] - 2s 60ms/step - loss: 0.6013 - accuracy: 0.7703\n",
      "Epoch 10/20\n",
      "31/31 [==============================] - 2s 61ms/step - loss: 0.5731 - accuracy: 0.7858\n",
      "Epoch 11/20\n",
      "31/31 [==============================] - 2s 61ms/step - loss: 0.5573 - accuracy: 0.7987\n",
      "Epoch 12/20\n",
      "31/31 [==============================] - 2s 58ms/step - loss: 0.5731 - accuracy: 0.7868\n",
      "Epoch 13/20\n",
      "31/31 [==============================] - 2s 57ms/step - loss: 0.5626 - accuracy: 0.7911\n",
      "Epoch 14/20\n",
      "31/31 [==============================] - 2s 61ms/step - loss: 0.5228 - accuracy: 0.8076\n",
      "Epoch 15/20\n",
      "31/31 [==============================] - 2s 57ms/step - loss: 0.5379 - accuracy: 0.7941\n",
      "Epoch 16/20\n",
      "31/31 [==============================] - 2s 57ms/step - loss: 0.5237 - accuracy: 0.8079\n",
      "Epoch 17/20\n",
      "31/31 [==============================] - 2s 60ms/step - loss: 0.5170 - accuracy: 0.8086\n",
      "Epoch 18/20\n",
      "31/31 [==============================] - 2s 58ms/step - loss: 0.4949 - accuracy: 0.8172\n",
      "Epoch 19/20\n",
      "31/31 [==============================] - 2s 57ms/step - loss: 0.5019 - accuracy: 0.8122\n",
      "Epoch 20/20\n",
      "31/31 [==============================] - 2s 61ms/step - loss: 0.4884 - accuracy: 0.8218\n"
     ]
    },
    {
     "data": {
      "text/plain": [
       "<keras.callbacks.History at 0x141bb146b50>"
      ]
     },
     "execution_count": 36,
     "metadata": {},
     "output_type": "execute_result"
    }
   ],
   "source": [
    "x.fit(xtrain,ytrain,epochs=20,batch_size=100)"
   ]
  },
  {
   "cell_type": "code",
   "execution_count": 37,
   "metadata": {},
   "outputs": [
    {
     "name": "stdout",
     "output_type": "stream",
     "text": [
      "Model: \"sequential_3\"\n",
      "_________________________________________________________________\n",
      "Layer (type)                 Output Shape              Param #   \n",
      "=================================================================\n",
      "conv2d_8 (Conv2D)            (None, 30, 30, 32)        896       \n",
      "_________________________________________________________________\n",
      "max_pooling2d_7 (MaxPooling2 (None, 15, 15, 32)        0         \n",
      "_________________________________________________________________\n",
      "conv2d_9 (Conv2D)            (None, 13, 13, 64)        18496     \n",
      "_________________________________________________________________\n",
      "max_pooling2d_8 (MaxPooling2 (None, 6, 6, 64)          0         \n",
      "_________________________________________________________________\n",
      "conv2d_10 (Conv2D)           (None, 4, 4, 128)         73856     \n",
      "_________________________________________________________________\n",
      "max_pooling2d_9 (MaxPooling2 (None, 2, 2, 128)         0         \n",
      "_________________________________________________________________\n",
      "flatten_4 (Flatten)          (None, 512)               0         \n",
      "_________________________________________________________________\n",
      "dense_8 (Dense)              (None, 64)                32832     \n",
      "_________________________________________________________________\n",
      "dense_9 (Dense)              (None, 4)                 260       \n",
      "=================================================================\n",
      "Total params: 126,340\n",
      "Trainable params: 126,340\n",
      "Non-trainable params: 0\n",
      "_________________________________________________________________\n",
      "None\n",
      "11/11 [==============================] - 0s 7ms/step - loss: 0.5976 - accuracy: 0.8131\n",
      "[0.5976033806800842, 0.8130564093589783]\n"
     ]
    }
   ],
   "source": [
    "print(x.summary())\n",
    "print(x.evaluate(xtest,ytest))"
   ]
  },
  {
   "cell_type": "code",
   "execution_count": 38,
   "metadata": {},
   "outputs": [
    {
     "data": {
      "text/plain": [
       "<AxesSubplot:>"
      ]
     },
     "execution_count": 38,
     "metadata": {},
     "output_type": "execute_result"
    },
    {
     "data": {
      "image/png": "[encoded data removed]",
      "text/plain": [
       "<Figure size 432x288 with 2 Axes>"
      ]
     },
     "metadata": {
      "needs_background": "light"
     },
     "output_type": "display_data"
    }
   ],
   "source": [
    "pred3=x.predict(xtest)\n",
    "pc = np.argmax(pred3, axis=1)\n",
    "pc = pc.tolist()\n",
    "sns.heatmap(tf.math.confusion_matrix(ytest,pc),annot=True,cmap='coolwarm',fmt='d')"
   ]
  },
  {
   "cell_type": "code",
   "execution_count": 39,
   "metadata": {},
   "outputs": [],
   "source": [
    "##"
   ]
  },
  {
   "cell_type": "code",
   "execution_count": 40,
   "metadata": {},
   "outputs": [],
   "source": [
    "x2 = keras.Sequential([\n",
    "    layers.Conv2D(16, kernel_size=(3, 3), activation='relu',padding='same',input_shape=(32,32,3)),\n",
    "    layers.Conv2D(16, kernel_size=(3, 3), activation='relu',padding='same'),\n",
    "    layers.MaxPooling2D(pool_size=(2, 2),strides=2),\n",
    "    layers.Conv2D(32, kernel_size=(3, 3), activation='relu'),\n",
    "    layers.Conv2D(32, kernel_size=(3, 3), activation='relu'),\n",
    "    layers.MaxPooling2D(pool_size=(2, 2),strides=2),\n",
    "    layers.Flatten(),\n",
    "    layers.Dense(512, activation='relu'),\n",
    "    layers.Dense(10, activation='softmax')\n",
    "])"
   ]
  },
  {
   "cell_type": "code",
   "execution_count": 41,
   "metadata": {},
   "outputs": [],
   "source": [
    "x2.compile(optimizer='adam',loss='sparse_categorical_crossentropy',metrics=['accuracy'])"
   ]
  },
  {
   "cell_type": "code",
   "execution_count": 42,
   "metadata": {},
   "outputs": [
    {
     "name": "stdout",
     "output_type": "stream",
     "text": [
      "Epoch 1/20\n",
      "31/31 [==============================] - 3s 95ms/step - loss: 1.2366 - accuracy: 0.4891\n",
      "Epoch 2/20\n",
      "31/31 [==============================] - 3s 88ms/step - loss: 0.9153 - accuracy: 0.6277\n",
      "Epoch 3/20\n",
      "31/31 [==============================] - 3s 86ms/step - loss: 0.7584 - accuracy: 0.7162\n",
      "Epoch 4/20\n",
      "31/31 [==============================] - 3s 84ms/step - loss: 0.6773 - accuracy: 0.7403\n",
      "Epoch 5/20\n",
      "31/31 [==============================] - 3s 85ms/step - loss: 0.6378 - accuracy: 0.7584\n",
      "Epoch 6/20\n",
      "31/31 [==============================] - 3s 85ms/step - loss: 0.6420 - accuracy: 0.7521\n",
      "Epoch 7/20\n",
      "31/31 [==============================] - 3s 88ms/step - loss: 0.5983 - accuracy: 0.7739\n",
      "Epoch 8/20\n",
      "31/31 [==============================] - 3s 84ms/step - loss: 0.5906 - accuracy: 0.7785\n",
      "Epoch 9/20\n",
      "31/31 [==============================] - 3s 89ms/step - loss: 0.5979 - accuracy: 0.7802\n",
      "Epoch 10/20\n",
      "31/31 [==============================] - 3s 90ms/step - loss: 0.5603 - accuracy: 0.7898\n",
      "Epoch 11/20\n",
      "31/31 [==============================] - 3s 91ms/step - loss: 0.5456 - accuracy: 0.7908\n",
      "Epoch 12/20\n",
      "31/31 [==============================] - 3s 89ms/step - loss: 0.5415 - accuracy: 0.7944\n",
      "Epoch 13/20\n",
      "31/31 [==============================] - 3s 94ms/step - loss: 0.5259 - accuracy: 0.7993\n",
      "Epoch 14/20\n",
      "31/31 [==============================] - 3s 91ms/step - loss: 0.5188 - accuracy: 0.8059\n",
      "Epoch 15/20\n",
      "31/31 [==============================] - 3s 98ms/step - loss: 0.5177 - accuracy: 0.8056\n",
      "Epoch 16/20\n",
      "31/31 [==============================] - 3s 98ms/step - loss: 0.4943 - accuracy: 0.8152\n",
      "Epoch 17/20\n",
      "31/31 [==============================] - 3s 98ms/step - loss: 0.4917 - accuracy: 0.8152\n",
      "Epoch 18/20\n",
      "31/31 [==============================] - 3s 93ms/step - loss: 0.4842 - accuracy: 0.8195\n",
      "Epoch 19/20\n",
      "31/31 [==============================] - 3s 83ms/step - loss: 0.4648 - accuracy: 0.8281\n",
      "Epoch 20/20\n",
      "31/31 [==============================] - 3s 85ms/step - loss: 0.4601 - accuracy: 0.8238\n"
     ]
    },
    {
     "data": {
      "text/plain": [
       "<keras.callbacks.History at 0x1419ffded90>"
      ]
     },
     "execution_count": 42,
     "metadata": {},
     "output_type": "execute_result"
    }
   ],
   "source": [
    "x2.fit(xtrain,ytrain,epochs=20,batch_size=100)"
   ]
  },
  {
   "cell_type": "code",
   "execution_count": null,
   "metadata": {},
   "outputs": [],
   "source": []
  },
  {
   "cell_type": "code",
   "execution_count": 43,
   "metadata": {},
   "outputs": [
    {
     "data": {
      "text/plain": [
       "<AxesSubplot:>"
      ]
     },
     "execution_count": 43,
     "metadata": {},
     "output_type": "execute_result"
    },
    {
     "data": {
      "image/png": "[encoded data removed]",
      "text/plain": [
       "<Figure size 432x288 with 2 Axes>"
      ]
     },
     "metadata": {
      "needs_background": "light"
     },
     "output_type": "display_data"
    }
   ],
   "source": [
    "pred4=x.predict(xtest)\n",
    "pc = np.argmax(pred4, axis=1)\n",
    "pc = pc.tolist()\n",
    "sns.heatmap(tf.math.confusion_matrix(ytest,pc),annot=True,cmap='coolwarm',fmt='d')"
   ]
  },
  {
   "cell_type": "code",
   "execution_count": 44,
   "metadata": {},
   "outputs": [
    {
     "name": "stdout",
     "output_type": "stream",
     "text": [
      "Model: \"sequential_4\"\n",
      "_________________________________________________________________\n",
      "Layer (type)                 Output Shape              Param #   \n",
      "=================================================================\n",
      "conv2d_11 (Conv2D)           (None, 32, 32, 16)        448       \n",
      "_________________________________________________________________\n",
      "conv2d_12 (Conv2D)           (None, 32, 32, 16)        2320      \n",
      "_________________________________________________________________\n",
      "max_pooling2d_10 (MaxPooling (None, 16, 16, 16)        0         \n",
      "_________________________________________________________________\n",
      "conv2d_13 (Conv2D)           (None, 14, 14, 32)        4640      \n",
      "_________________________________________________________________\n",
      "conv2d_14 (Conv2D)           (None, 12, 12, 32)        9248      \n",
      "_________________________________________________________________\n",
      "max_pooling2d_11 (MaxPooling (None, 6, 6, 32)          0         \n",
      "_________________________________________________________________\n",
      "flatten_5 (Flatten)          (None, 1152)              0         \n",
      "_________________________________________________________________\n",
      "dense_10 (Dense)             (None, 512)               590336    \n",
      "_________________________________________________________________\n",
      "dense_11 (Dense)             (None, 10)                5130      \n",
      "=================================================================\n",
      "Total params: 612,122\n",
      "Trainable params: 612,122\n",
      "Non-trainable params: 0\n",
      "_________________________________________________________________\n",
      "None\n",
      "11/11 [==============================] - 0s 9ms/step - loss: 0.6898 - accuracy: 0.7656\n",
      "[0.6898212432861328, 0.7655786275863647]\n"
     ]
    }
   ],
   "source": [
    "print(x2.summary())\n",
    "print(x2.evaluate(xtest,ytest))"
   ]
  },
  {
   "cell_type": "code",
   "execution_count": null,
   "metadata": {},
   "outputs": [],
   "source": []
  },
  {
   "cell_type": "code",
   "execution_count": 45,
   "metadata": {},
   "outputs": [
    {
     "name": "stderr",
     "output_type": "stream",
     "text": [
      "<ipython-input-45-e60b6c0b890e>:4: DeprecationWarning: `import kerastuner` is deprecated, please use `import keras_tuner`.\n",
      "  from kerastuner.tuners import RandomSearch\n"
     ]
    }
   ],
   "source": [
    "from keras.utils import np_utils\n",
    "from tensorflow import keras\n",
    "from tensorflow.keras import layers\n",
    "from kerastuner.tuners import RandomSearch\n",
    "import keras_tuner as kt"
   ]
  },
  {
   "cell_type": "code",
   "execution_count": null,
   "metadata": {},
   "outputs": [],
   "source": []
  }
 ],
 "metadata": {
  "kernelspec": {
   "display_name": "Python 3",
   "language": "python",
   "name": "python3"
  },
  "language_info": {
   "codemirror_mode": {
    "name": "ipython",
    "version": 3
   },
   "file_extension": ".py",
   "mimetype": "text/x-python",
   "name": "python",
   "nbconvert_exporter": "python",
   "pygments_lexer": "ipython3",
   "version": "3.8.5"
  }
 },
 "nbformat": 4,
 "nbformat_minor": 4
}
